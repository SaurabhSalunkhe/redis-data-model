{
 "cells": [
  {
   "cell_type": "markdown",
   "id": "e0e34d5d-9c38-4c51-8ea7-f28ed84d364a",
   "metadata": {},
   "source": [
    "## Shopping Cart Data Model Using Redis\n",
    "\n",
    "### Requirements\n",
    "- Each user has their own cart\n",
    "- Carts can hold 0 or more items (SKUs)\n",
    "- Each SKU can have a quantity > 1\n",
    "- Each cart is linked to a user\n",
    "\n",
    "---\n",
    "\n",
    "### Redis Data Structure: Hash (for User Profiles)\n",
    "\n",
    "We store user profiles as Redis hashes:\n",
    "- **Key**: `user:<user_id>`\n",
    "- **Fields**: name, email, and other user attributes\n",
    "\n",
    "**Example:**\n",
    "user:123 = { \"name\": \"Saurabh\", \"email\": \"saurabh@example.com\" }\n",
    "\n",
    "\n",
    "**Why Hash?**\n",
    "- Clean key–value structure\n",
    "- Efficient to update and retrieve individual fields\n",
    "- Supports optional fields without creating multiple keys\n",
    "- Constant-time operations for single field access (`HGET`, `HSET`, etc.)\n",
    "\n",
    "---\n",
    "\n",
    "### Redis Data Structure: Hash (for Shopping Carts)\n",
    "\n",
    "Each shopping cart is also stored as a Redis hash:\n",
    "- **Key**: `cart:<user_id>`\n",
    "- **Fields**: SKUs (product IDs)\n",
    "- **Values**: quantities of each SKU\n",
    "\n",
    "**Example:**\n",
    "\n",
    "cart:123 = { \"SKU123\": \"2\", \"SKU999\": \"1\" }\n",
    "\n",
    "\n",
    "**Why Hash?**\n",
    "- Efficient storage of many field–value pairs under one key\n",
    "- Quantities can be atomically updated using `HINCRBY`\n",
    "- Easy to query (`HGET`, `HGETALL`, `HDEL`)\n",
    "- Minimal memory usage and good performance for small to medium-sized carts\n",
    "\n",
    "---\n",
    "\n",
    "\n"
   ]
  },
  {
   "cell_type": "code",
   "execution_count": 1,
   "id": "deb3e7a0-fb84-485c-a10d-b4d4af7e39f6",
   "metadata": {},
   "outputs": [],
   "source": []
  },
  {
   "cell_type": "markdown",
   "id": "72c1c142-879a-410a-8494-aaa232a1a7f8",
   "metadata": {},
   "source": [
    "## Setup and and connect to Redis "
   ]
  },
  {
   "cell_type": "code",
   "execution_count": 2,
   "id": "7811410d-0e19-4a9d-96a0-cb6bb0d31be5",
   "metadata": {},
   "outputs": [
    {
     "name": "stdout",
     "output_type": "stream",
     "text": [
      "Connected to Redis: True\n"
     ]
    }
   ],
   "source": [
    "import redis\n",
    "\n",
    "r = redis.Redis(\n",
    "    host=os.environ['REDIS_SERVER1_IP'],\n",
    "    port=6379,\n",
    "    password=os.environ['REDIS_SERVER1_PASSWORD'],\n",
    "    decode_responses=True\n",
    ")\n",
    "\n",
    "try:\n",
    "    pong = r.ping()\n",
    "    print(\"Connected to Redis:\", pong)\n",
    "except redis.AuthenticationError:\n",
    "    print(\"Wrong password\")\n",
    "except Exception as e:\n",
    "    print(\"Connection failed:\", str(e))\n"
   ]
  },
  {
   "cell_type": "code",
   "execution_count": 3,
   "id": "053a57c9-b6c4-4e2d-bc4b-8b479c9911f5",
   "metadata": {},
   "outputs": [],
   "source": [
    "def add_user(user_id, name, email):\n",
    "    r.hset(f\"user:{user_id}\", mapping={\"name\": name, \"email\": email})"
   ]
  },
  {
   "cell_type": "code",
   "execution_count": 4,
   "id": "d50e012e-171e-4fcc-a5f4-33e5bafd8347",
   "metadata": {},
   "outputs": [],
   "source": [
    "add_user(\"123\", \"Saurabh\", \"Saurabh@example.com\")"
   ]
  },
  {
   "cell_type": "code",
   "execution_count": 5,
   "id": "fe5eceb1-6845-4f0e-97a9-82739e70b351",
   "metadata": {},
   "outputs": [
    {
     "name": "stdout",
     "output_type": "stream",
     "text": [
      "{'name': 'Saurabh', 'email': 'Saurabh@example.com'}\n"
     ]
    }
   ],
   "source": [
    "print(r.hgetall(\"user:123\"))"
   ]
  },
  {
   "cell_type": "code",
   "execution_count": 6,
   "id": "ba3e85ac-d23a-49db-9141-e90c2c006d7e",
   "metadata": {},
   "outputs": [],
   "source": [
    "def add_to_cart(user_id, sku, quantity=1):\n",
    "    r.hincrby(f\"cart:{user_id}\", sku, quantity)\n",
    "\n",
    "add_to_cart(\"123\", \"SKU123\", 2)\n",
    "add_to_cart(\"123\", \"SKU999\", 3)"
   ]
  },
  {
   "cell_type": "code",
   "execution_count": 7,
   "id": "b6f703a2-bb97-470b-9f16-8a2bc5a68dcb",
   "metadata": {},
   "outputs": [
    {
     "name": "stdout",
     "output_type": "stream",
     "text": [
      "{'SKU123': '2', 'SKU999': '3'}\n"
     ]
    }
   ],
   "source": [
    "print(r.hgetall(\"cart:123\"))"
   ]
  },
  {
   "cell_type": "code",
   "execution_count": 8,
   "id": "c99443e6-7235-44e2-a362-701003fb5b92",
   "metadata": {},
   "outputs": [
    {
     "data": {
      "text/plain": [
       "{'SKU123': '2', 'SKU999': '3'}"
      ]
     },
     "execution_count": 8,
     "metadata": {},
     "output_type": "execute_result"
    }
   ],
   "source": [
    "def view_cart(user_id):\n",
    "    return r.hgetall(f\"cart:{user_id}\")\n",
    "\n",
    "view_cart(\"123\")"
   ]
  },
  {
   "cell_type": "code",
   "execution_count": 9,
   "id": "ef591854-6011-4500-883e-178c794f5535",
   "metadata": {},
   "outputs": [
    {
     "name": "stdout",
     "output_type": "stream",
     "text": [
      "{'name': 'Saurabh', 'email': 'Saurabh@example.com'}\n"
     ]
    }
   ],
   "source": [
    "print(r.hgetall(\"user:123\"))"
   ]
  },
  {
   "cell_type": "code",
   "execution_count": 10,
   "id": "6e9febcb-4b43-4abd-8acc-2f8e4ff3be8b",
   "metadata": {},
   "outputs": [],
   "source": [
    "#remove items from the cart\n",
    "def remove_from_cart(user_id, sku, quantity=1):\n",
    "    current_qty = int(r.hget(f\"cart:{user_id}\", sku) or 0)\n",
    "    new_qty = max(current_qty - quantity, 0)\n",
    "    \n",
    "    if new_qty == 0:\n",
    "        r.hdel(f\"cart:{user_id}\", sku)\n",
    "    else:\n",
    "        r.hset(f\"cart:{user_id}\", sku, new_qty)\n",
    "\n",
    "remove_from_cart(\"123\", \"SKU123\", 1)\n"
   ]
  },
  {
   "cell_type": "code",
   "execution_count": 11,
   "id": "cbf1b2d6-8d46-4f1e-8813-b67bc3d93692",
   "metadata": {},
   "outputs": [],
   "source": [
    "#clear cart\n",
    "def clear_cart(user_id):\n",
    "    r.delete(f\"cart:{user_id}\")\n",
    "\n",
    "clear_cart(\"123\")\n"
   ]
  },
  {
   "cell_type": "code",
   "execution_count": 12,
   "id": "40608521-e5ba-48df-ac5f-017e6dec587e",
   "metadata": {},
   "outputs": [
    {
     "name": "stdout",
     "output_type": "stream",
     "text": [
      "{'name': 'Saurabh', 'email': 'Saurabh@example.com'}\n"
     ]
    }
   ],
   "source": [
    "print(r.hgetall(\"user:123\"))"
   ]
  },
  {
   "cell_type": "code",
   "execution_count": 13,
   "id": "55400cc7-547a-4b19-b691-04fbfaa2804f",
   "metadata": {},
   "outputs": [
    {
     "name": "stdout",
     "output_type": "stream",
     "text": [
      "{}\n"
     ]
    }
   ],
   "source": [
    "print(r.hgetall(\"cart:123\"))"
   ]
  },
  {
   "cell_type": "code",
   "execution_count": null,
   "id": "0cdd1116-b210-444f-9a6f-ddd9064bccdf",
   "metadata": {},
   "outputs": [],
   "source": []
  }
 ],
 "metadata": {
  "kernelspec": {
   "display_name": "Python 3 (ipykernel)",
   "language": "python",
   "name": "python3"
  },
  "language_info": {
   "codemirror_mode": {
    "name": "ipython",
    "version": 3
   },
   "file_extension": ".py",
   "mimetype": "text/x-python",
   "name": "python",
   "nbconvert_exporter": "python",
   "pygments_lexer": "ipython3",
   "version": "3.9.6"
  }
 },
 "nbformat": 4,
 "nbformat_minor": 5
}
