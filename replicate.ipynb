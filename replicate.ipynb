{
 "cells": [
  {
   "cell_type": "code",
   "execution_count": 2,
   "id": "d3d84af1-8fd4-4493-b571-48f967ce3883",
   "metadata": {},
   "outputs": [],
   "source": [
    "import os\n",
    "import redis\n",
    "\n",
    "server1_ip   = os.environ['REDIS_SERVER1_IP']\n",
    "server1_port = 6379\n",
    "\n",
    "r1 = redis.Redis(host=server1_ip, port=server1_port, decode_responses=True)"
   ]
  },
  {
   "cell_type": "code",
   "execution_count": 3,
   "id": "90118230-086d-4507-bade-989414b420e9",
   "metadata": {},
   "outputs": [
    {
     "name": "stdout",
     "output_type": "stream",
     "text": [
      "Flushed all data on Server 1\n"
     ]
    }
   ],
   "source": [
    "r1.flushall()\n",
    "print(\"Flushed all data on Server 1\")"
   ]
  },
  {
   "cell_type": "code",
   "execution_count": 4,
   "id": "bcd60415-af3a-43e6-bd30-402926564cf0",
   "metadata": {},
   "outputs": [
    {
     "name": "stdout",
     "output_type": "stream",
     "text": [
      "Inserted values 1–10000 into 'mylist' on Server 1 via pipeline\n"
     ]
    }
   ],
   "source": [
    "pipe = r1.pipeline()\n",
    "for i in range(1, 10001):\n",
    "    pipe.rpush('mylist', i)\n",
    "pipe.execute()\n",
    "print(\"Inserted values 1–10000 into 'mylist' on Server 1 via pipeline\")"
   ]
  },
  {
   "cell_type": "code",
   "execution_count": 5,
   "id": "84ff96bf-c11f-42df-96c6-5e87774ac106",
   "metadata": {},
   "outputs": [],
   "source": [
    "server2_ip   = os.environ.get('REDIS_SERVER2_IP')"
   ]
  },
  {
   "cell_type": "code",
   "execution_count": 6,
   "id": "1e5e1a14-aeb8-4216-b4ee-22cd0b2d6d3c",
   "metadata": {},
   "outputs": [],
   "source": [
    "server2_port = 10878"
   ]
  },
  {
   "cell_type": "code",
   "execution_count": 7,
   "id": "7f58c2f5-c132-498b-a000-1ea2cc849014",
   "metadata": {},
   "outputs": [],
   "source": [
    "r2 = redis.Redis(host=server2_ip, port=server2_port, decode_responses=True)"
   ]
  },
  {
   "cell_type": "code",
   "execution_count": 8,
   "id": "b98169b7-4db7-49cc-b1fa-1f1dd49b8525",
   "metadata": {},
   "outputs": [
    {
     "name": "stdout",
     "output_type": "stream",
     "text": [
      "Server 2 mylist length: 10000\n",
      "First 5 values in reverse order: ['10000', '9999', '9998', '9997', '9996']\n"
     ]
    }
   ],
   "source": [
    "values = r2.lrange('mylist', 0, -1)\n",
    "print(\"Server 2 mylist length:\", len(values))\n",
    "print(\"First 5 values in reverse order:\", list(reversed(values))[:5])"
   ]
  },
  {
   "cell_type": "code",
   "execution_count": null,
   "id": "e8fbcc38-0476-4916-aead-af167a46f7f1",
   "metadata": {},
   "outputs": [],
   "source": []
  }
 ],
 "metadata": {
  "kernelspec": {
   "display_name": "Python 3 (ipykernel)",
   "language": "python",
   "name": "python3"
  },
  "language_info": {
   "codemirror_mode": {
    "name": "ipython",
    "version": 3
   },
   "file_extension": ".py",
   "mimetype": "text/x-python",
   "name": "python",
   "nbconvert_exporter": "python",
   "pygments_lexer": "ipython3",
   "version": "3.9.6"
  }
 },
 "nbformat": 4,
 "nbformat_minor": 5
}
