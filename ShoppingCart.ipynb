{
 "cells": [
  {
   "cell_type": "markdown",
   "id": "b129025d-c4a6-43d8-a05f-81d0454e83bc",
   "metadata": {},
   "source": [
    "## 1. Install and import the Redis client"
   ]
  },
  {
   "cell_type": "code",
   "execution_count": 1,
   "id": "a52948de-e027-4207-9a5b-044eff5b4f55",
   "metadata": {},
   "outputs": [
    {
     "name": "stdout",
     "output_type": "stream",
     "text": [
      "Collecting redis\n",
      "  Downloading redis-5.2.1-py3-none-any.whl (261 kB)\n",
      "\u001b[K     |████████████████████████████████| 261 kB 3.8 MB/s eta 0:00:01\n",
      "\u001b[?25hCollecting async-timeout>=4.0.3\n",
      "  Downloading async_timeout-5.0.1-py3-none-any.whl (6.2 kB)\n",
      "Installing collected packages: async-timeout, redis\n",
      "Successfully installed async-timeout-5.0.1 redis-5.2.1\n",
      "\u001b[33mWARNING: You are using pip version 21.2.4; however, version 25.0.1 is available.\n",
      "You should consider upgrading via the '/Users/saurabhsalunkhe/Desktop/redis_scripts/myenv/bin/python3 -m pip install --upgrade pip' command.\u001b[0m\n"
     ]
    }
   ],
   "source": [
    "!pip install redis"
   ]
  },
  {
   "cell_type": "code",
   "execution_count": 5,
   "id": "a3e7c757-0065-4dae-99c5-a3f94f0cca9a",
   "metadata": {},
   "outputs": [],
   "source": [
    "import os, redis\n",
    "\n",
    "SERVER1_IP   = os.environ['REDIS_SERVER1_IP']\n",
    "SERVER1_PORT = 6379\n",
    "\n",
    "r = redis.Redis(host=SERVER1_IP, port=SERVER1_PORT, decode_responses=True)"
   ]
  },
  {
   "cell_type": "markdown",
   "id": "14242cb2-2379-48b5-981b-f9d869ed506c",
   "metadata": {},
   "source": [
    "## 2. Create a user profile"
   ]
  },
  {
   "cell_type": "code",
   "execution_count": 10,
   "id": "1563d7df-7d45-4a2e-b0f6-a23c4232811e",
   "metadata": {},
   "outputs": [
    {
     "data": {
      "text/plain": [
       "3"
      ]
     },
     "execution_count": 10,
     "metadata": {},
     "output_type": "execute_result"
    }
   ],
   "source": [
    "user_id = 1\n",
    "user_key = f\"user:{user_id}\"\n",
    "\n",
    "r.hset(user_key, mapping={\n",
    "    \"firstname\": \"Saurabh\",\n",
    "    \"lastname\":  \"Salunkhe\",\n",
    "    \"email\":     \"saurabh@example.com\"\n",
    "})\n"
   ]
  },
  {
   "cell_type": "markdown",
   "id": "01962259-0e6e-484b-911a-52fc7c9b8101",
   "metadata": {},
   "source": [
    "## 3. Initialize or update the shopping cart"
   ]
  },
  {
   "cell_type": "code",
   "execution_count": 11,
   "id": "47e2dd35-2b46-466c-8134-6fa1dd09d359",
   "metadata": {},
   "outputs": [
    {
     "data": {
      "text/plain": [
       "7"
      ]
     },
     "execution_count": 11,
     "metadata": {},
     "output_type": "execute_result"
    }
   ],
   "source": [
    "cart_key = f\"cart:{user_id}\"\n",
    "\n",
    "# Add 4 bananas, 2 apples, 7 oranges to the cart\n",
    "r.hincrby(cart_key, \"banana\", 4)\n",
    "r.hincrby(cart_key, \"apple\",  2)\n",
    "r.hincrby(cart_key, \"orange\", 7)"
   ]
  },
  {
   "cell_type": "markdown",
   "id": "98b4f39b-7655-4f0a-bdb2-076ac28ce6fa",
   "metadata": {},
   "source": [
    "## 4. Read back the cart contents"
   ]
  },
  {
   "cell_type": "code",
   "execution_count": 13,
   "id": "a18620b1-26c9-4eca-91c3-fcac7164cbaa",
   "metadata": {},
   "outputs": [
    {
     "name": "stdout",
     "output_type": "stream",
     "text": [
      "Cart contents are: {'banana': '4', 'apple': '2', 'orange': '7'}\n"
     ]
    }
   ],
   "source": [
    "cart_contents = r.hgetall(cart_key)\n",
    "print(\"Cart contents are:\", cart_contents)\n"
   ]
  },
  {
   "cell_type": "markdown",
   "id": "8bdc828f-1e51-4e55-90c5-9b10242e465c",
   "metadata": {},
   "source": [
    "## 5. Remove or decrement items"
   ]
  },
  {
   "cell_type": "code",
   "execution_count": 14,
   "id": "76049842-9b41-44ff-9582-d1bc75cbf642",
   "metadata": {},
   "outputs": [],
   "source": [
    "# Remove 1 banana\n",
    "new_bananas = r.hincrby(cart_key, \"banana\", -1)\n",
    "if new_bananas <= 0:\n",
    "    r.hdel(cart_key, \"banana\")\n"
   ]
  },
  {
   "cell_type": "code",
   "execution_count": null,
   "id": "0636c85b-c620-4c99-80f6-e22521af39ab",
   "metadata": {},
   "outputs": [],
   "source": []
  }
 ],
 "metadata": {
  "kernelspec": {
   "display_name": "Python 3 (ipykernel)",
   "language": "python",
   "name": "python3"
  },
  "language_info": {
   "codemirror_mode": {
    "name": "ipython",
    "version": 3
   },
   "file_extension": ".py",
   "mimetype": "text/x-python",
   "name": "python",
   "nbconvert_exporter": "python",
   "pygments_lexer": "ipython3",
   "version": "3.9.6"
  }
 },
 "nbformat": 4,
 "nbformat_minor": 5
}
